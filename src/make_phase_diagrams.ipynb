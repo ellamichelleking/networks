{
 "cells": [
  {
   "cell_type": "code",
   "execution_count": 1,
   "id": "55ee1427-78c7-4391-8a8b-d6b2398700c6",
   "metadata": {
    "tags": []
   },
   "outputs": [],
   "source": [
    "import numpy as np\n",
    "import random\n",
    "import networkx as nx\n",
    "import matplotlib.pyplot as plt\n",
    "from scipy import sparse\n",
    "import os\n",
    "\n",
    "from setup_networks import network_from_txt, network_indices, Network, triangular_lattice_pts, get_edges, network_from_edges_and_nodes\n",
    "from currents import * \n",
    "from adaptation import adaptation_ode, ss_solve\n",
    "from measures import steady_state_dissipation, area_penalty, cost\n",
    "from phase_diagrams import get_sinks, remove_edges, make_ellipse_netw, netw_to_nx"
   ]
  },
  {
   "cell_type": "code",
   "execution_count": 2,
   "id": "6f6f87ef-bb32-40d5-be7b-733aef81a5fc",
   "metadata": {
    "tags": []
   },
   "outputs": [],
   "source": [
    "ellipse_ratio = 1.0\n",
    "insertion_point_str = 'center'\n",
    "\n",
    "N_nodes = 10000\n",
    "edge_len = 0.08\n",
    "N_kappas = 10;\n",
    "N_rhos = 10;\n",
    "num_replicates = 10;\n",
    "\n",
    "kappas = np.logspace(-3, 0, N_kappas)\n",
    "rhos = np.logspace(0, 2, N_rhos)"
   ]
  },
  {
   "cell_type": "code",
   "execution_count": 3,
   "id": "b1b04642-24ce-441a-a5c7-0855a66f386a",
   "metadata": {
    "tags": []
   },
   "outputs": [],
   "source": [
    "'''\n",
    "Given a Network object and a ratio of the two ellipse axes (1.0 if circle), returns\n",
    "the square root of the area of the network.\n",
    "'''\n",
    "def sqrt_area_of_network(netw, ellipse_ratio):\n",
    "    inds = network_indices(netw)\n",
    "    left_idx = inds['left']\n",
    "    dist_fn = lambda x: np.linalg.norm(x[left_idx] - x, axis=1)\n",
    "    dists = dist_fn(netw.pos)\n",
    "    long_axis = np.max(dists) / 2\n",
    "    short_axis = long_axis*ellipse_ratio\n",
    "    return np.sqrt(np.pi * long_axis * short_axis)\n",
    "\n",
    "'''\n",
    "Arguments:\n",
    "    - netw: Network object\n",
    "    - K: list of conductances for each edge in the network\n",
    "    - insertion_point: string ('center' or 'left') indicating the position of the source in the network\n",
    "Returns: \n",
    "    - unweighted_path_length: list of lengths of shortest paths from the source to each branch point in the network, \n",
    "        where the length is measured in the number of nodes\n",
    "    - path_length: list of lengths of shortest paths from the source to each branch point in the network, \n",
    "        where the length is measured in the number of nodes and paths are weighted by 1/conductance\n",
    "    - path_weight: list of lengths of shortest paths from the source to each branch point in the network, \n",
    "        where the length is measured in 1/conductance and paths are weighted by 1/conductance\n",
    "'''\n",
    "def distance_insertion_to_branch_points(netw, K, insertion_point='center'):\n",
    "    clipped_netw, clipped_K = remove_edges(netw, K)\n",
    "    G = netw_to_nx(clipped_netw, clipped_K)\n",
    "    \n",
    "    inds = network_indices(clipped_netw)\n",
    "    source = inds[insertion_point]\n",
    "    \n",
    "    degrees = np.array(list(G.degree))\n",
    "    branch_points = np.where(degrees[:, 1] > 2)[0]\n",
    "    \n",
    "    unweighted_path_length = []\n",
    "    path_length = []\n",
    "    path_weight = []\n",
    "    for b in branch_points:\n",
    "        path = nx.dijkstra_path(G, source, b, weight='K')\n",
    "        pathweight = nx.path_weight(G, path, weight='K')\n",
    "        path_unweighted = nx.dijkstra_path(G, source, b, weight=1.)\n",
    "        \n",
    "        path_length += [len(path)-1] #subtract 1 to get number of edges rather than number of nodes in path\n",
    "        unweighted_path_length += [len(path_unweighted) - 1]\n",
    "        path_weight += [pathweight]\n",
    "        \n",
    "        \n",
    "    return np.array(unweighted_path_length, dtype=float), np.array(path_length, dtype=float), np.array(path_weight, dtype=float)"
   ]
  },
  {
   "cell_type": "code",
   "execution_count": 28,
   "id": "9f32d640-e8e0-45bc-9904-5a96a708f9a4",
   "metadata": {},
   "outputs": [],
   "source": [
    "# Make two arrays:\n",
    "# n_kappas x n_rhos\n",
    "# n_kappas x n_rhos x "
   ]
  },
  {
   "cell_type": "code",
   "execution_count": 4,
   "id": "fc02eaf8-5cd1-4137-947e-e3f29004ac61",
   "metadata": {
    "tags": []
   },
   "outputs": [],
   "source": [
    "def rebuild_netw(N_nodes, edge_len, ellipse_ratio):\n",
    "    nodes = triangular_lattice_pts(N_nodes, edge_len)\n",
    "    edges = get_edges(nodes)\n",
    "    netw_ = network_from_edges_and_nodes(edges, nodes)\n",
    "    netw = make_ellipse_netw(netw_, 0.5, 0.5)\n",
    "    netw = make_ellipse_netw(netw, 1.0, ellipse_ratio)\n",
    "    return netw"
   ]
  },
  {
   "cell_type": "code",
   "execution_count": null,
   "id": "0df97e06-db2f-4f6d-be82-e12071719d5d",
   "metadata": {
    "tags": []
   },
   "outputs": [],
   "source": [
    "fig, axs = plt.subplots(N_kappas, N_rhos, figsize=(35, 25))\n",
    "min_dist_to_branch_pt = np.zeros((N_kappas, N_rhos))\n",
    "\n",
    "netw = rebuild_netw(N_nodes, edge_len, ellipse_ratio)\n",
    "sqrt_area = sqrt_area_of_network(netw, ellipse_ratio)\n",
    "#filepath = f'../data/old_05_23_24/expgrowth_el{ellipse_ratio}_ip{insertion_point_str}_rounded/Ks/K_'\n",
    "filepath = f'../data/expgrowth_el{ellipse_ratio}_ip{insertion_point_str}/Ks/K_'\n",
    "\n",
    "for kk in range(len(kappas)):\n",
    "    k = kappas[kk]\n",
    "    for pp in range(len(rhos)):\n",
    "        p = rhos[pp]\n",
    "        filename_ = filepath + f'kappa{np.round(k, 5)}_rho{np.round(p, 5)}'\n",
    "        \n",
    "        \n",
    "        min_dists = 0\n",
    "        path_lens = []\n",
    "        for r in range(num_replicates):\n",
    "            filename = filename_ + f'_replicate{r}.txt'\n",
    "            if os.path.isfile(filename):\n",
    "                print(f'k: {np.round(k, 5)}, p: {np.round(p, 5)}')\n",
    "                K = np.loadtxt(filename)\n",
    "\n",
    "                # compute lists of shortest path lenghts from source to branch points\n",
    "                unweighted_path_lengths, path_lengths, path_weights = distance_insertion_to_branch_points(netw, K, insertion_point='center')\n",
    "\n",
    "                 #normalize the lengths \n",
    "                path_lengths *= edge_len / sqrt_area\n",
    "                unweighted_path_lengths *= edge_len / sqrt_area\n",
    "\n",
    "                min_dists += np.sort(path_lengths)[1]\n",
    "                path_lens.extend(list(path_lengths))\n",
    "            \n",
    "        min_dist_to_branch_pt[kk, pp] = min_dists/num_replicates\n",
    "        axs[kk, pp].hist(path_lens, density=True)\n",
    "            \n",
    "            \n",
    "            \n",
    "            \n",
    "            "
   ]
  },
  {
   "cell_type": "code",
   "execution_count": null,
   "id": "7141afc4-48e9-43e8-a1a7-51bb46ebf389",
   "metadata": {},
   "outputs": [],
   "source": [
    "\n",
    "fig, ax = plt.subplots(1, 1, figsize=(35, 10))\n",
    "\n",
    "\n",
    "im0 = ax.imshow(min_dist_to_branch_pt, origin='lower')\n",
    "ax.set_xlabel(r'$\\log_{10}(1 + \\rho)$', fontsize=30);\n",
    "ax.set_ylabel(r'$\\log_{10}(\\kappa)$', fontsize=30);\n",
    "ax.set_xticks(ticks=np.arange(N_rhos), labels=np.round(np.log10(1 + rhos), 2), fontsize=20);\n",
    "ax.set_yticks(ticks=np.arange(N_kappas), labels=np.round(np.log10(kappas), 2), fontsize=20);\n",
    "ax.set_title('Shortest path to branch point', fontsize=30)\n",
    "clb = fig.colorbar(im0, ax=ax);\n",
    "clb.ax.tick_params(labelsize=20) "
   ]
  },
  {
   "cell_type": "code",
   "execution_count": null,
   "id": "a929b318-b489-4dcb-9306-d48f74ffe606",
   "metadata": {},
   "outputs": [],
   "source": []
  }
 ],
 "metadata": {
  "kernelspec": {
   "display_name": "Python 3 (ipykernel) (python@3.10.10%gcc@11.4.0)",
   "language": "python",
   "name": "python-3.10.10-gcc-11.4.0-python3"
  },
  "language_info": {
   "codemirror_mode": {
    "name": "ipython",
    "version": 3
   },
   "file_extension": ".py",
   "mimetype": "text/x-python",
   "name": "python",
   "nbconvert_exporter": "python",
   "pygments_lexer": "ipython3",
   "version": "3.10.10"
  }
 },
 "nbformat": 4,
 "nbformat_minor": 5
}
